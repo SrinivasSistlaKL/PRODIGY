{
  "nbformat": 4,
  "nbformat_minor": 0,
  "metadata": {
    "colab": {
      "provenance": [],
      "authorship_tag": "ABX9TyMJ4JWa/jlCduVx5mJrT4KV",
      "include_colab_link": true
    },
    "kernelspec": {
      "name": "python3",
      "display_name": "Python 3"
    },
    "language_info": {
      "name": "python"
    }
  },
  "cells": [
    {
      "cell_type": "markdown",
      "metadata": {
        "id": "view-in-github",
        "colab_type": "text"
      },
      "source": [
        "<a href=\"https://colab.research.google.com/github/SrinivasSistlaKL/PRODIGY/blob/main/PRODIGY_ML_3.ipynb\" target=\"_parent\"><img src=\"https://colab.research.google.com/assets/colab-badge.svg\" alt=\"Open In Colab\"/></a>"
      ]
    },
    {
      "cell_type": "code",
      "execution_count": 4,
      "metadata": {
        "colab": {
          "base_uri": "https://localhost:8080/"
        },
        "id": "zncx_kbQmDlU",
        "outputId": "4426ece0-9ef0-4c39-84fe-111fa0bd3ba8"
      },
      "outputs": [
        {
          "output_type": "stream",
          "name": "stdout",
          "text": [
            "loading cat images...\n",
            "dogs-vs-cats/train/cat image loading done!\n",
            "loading dog images...\n",
            "dogs-vs-cats/train/dog image loading done!\n",
            "Splitting test-set done!\n",
            "Training SVM model...\n",
            "Accuracy: 50.70%\n"
          ]
        }
      ],
      "source": [
        "import numpy as np\n",
        "import cv2\n",
        "import os\n",
        "from sklearn.model_selection import train_test_split\n",
        "from sklearn.preprocessing import StandardScaler\n",
        "from sklearn.svm import SVC\n",
        "from sklearn.metrics import accuracy_score\n",
        "\n",
        "\n",
        "# Function to load images and labels from a folder\n",
        "def load_images_from_folder(folder, label):\n",
        "    images = []\n",
        "    labels = []\n",
        "    for filename in os.listdir(folder):\n",
        "        if filename.endswith(\".jpg\"):\n",
        "            img = cv2.imread(os.path.join(folder, filename))\n",
        "            img = cv2.resize(img, (64, 64))  # Resize images to a fixed size\n",
        "            images.append(img)\n",
        "            labels.append(label)\n",
        "    print(f\"{folder} image loading done!\")\n",
        "    return images, labels\n",
        "\n",
        "\n",
        "# Load cat and dog images\n",
        "print(\"loading cat images...\")\n",
        "cat_images, cat_labels = load_images_from_folder('dogs-vs-cats/train/cat', 0)\n",
        "print(\"loading dog images...\")\n",
        "dog_images, dog_labels = load_images_from_folder('dogs-vs-cats/train/dog', 1)\n",
        "\n",
        "# Combine images and labels\n",
        "X = np.array(cat_images + dog_images)\n",
        "y = np.array(cat_labels + dog_labels)\n",
        "\n",
        "# Flatten the images\n",
        "n_samples, h, w, c = X.shape\n",
        "X_flattened = X.reshape(n_samples, -1)  # Flatten each image\n",
        "\n",
        "# Split the dataset\n",
        "X_train, X_test, y_train, y_test = train_test_split(X_flattened, y, test_size=0.2, random_state=42)\n",
        "\n",
        "print(\"Splitting test-set done!\")\n",
        "# Normalize the data\n",
        "scaler = StandardScaler()\n",
        "X_train = scaler.fit_transform(X_train)\n",
        "X_test = scaler.transform(X_test)\n",
        "\n",
        "# Train the SVM model\n",
        "print(\"Training SVM model...\")\n",
        "clf = SVC(kernel='linear')  # You can experiment with other kernels like 'rbf'\n",
        "clf.fit(X_train, y_train)\n",
        "\n",
        "# Evaluate the model\n",
        "y_pred = clf.predict(X_test)\n",
        "accuracy = accuracy_score(y_test, y_pred)\n",
        "print(f'Accuracy: {accuracy * 100:.2f}%')"
      ]
    }
  ]
}